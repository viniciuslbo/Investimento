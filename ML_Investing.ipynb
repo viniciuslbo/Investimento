{
  "nbformat": 4,
  "nbformat_minor": 0,
  "metadata": {
    "kernelspec": {
      "display_name": "Python 3",
      "language": "python",
      "name": "python3"
    },
    "language_info": {
      "codemirror_mode": {
        "name": "ipython",
        "version": 3
      },
      "file_extension": ".py",
      "mimetype": "text/x-python",
      "name": "python",
      "nbconvert_exporter": "python",
      "pygments_lexer": "ipython3",
      "version": "3.6.8"
    },
    "colab": {
      "name": "ML_Investing.ipynb",
      "provenance": [],
      "collapsed_sections": [
        "XL2k79ss4FQx",
        "21JyfXk_4Lh1",
        "XAKTs2WxTBej"
      ],
      "include_colab_link": true
    }
  },
  "cells": [
    {
      "cell_type": "markdown",
      "metadata": {
        "id": "view-in-github",
        "colab_type": "text"
      },
      "source": [
        "<a href=\"https://colab.research.google.com/github/viniciuslbo/Investimento/blob/main/ML_Investing.ipynb\" target=\"_parent\"><img src=\"https://colab.research.google.com/assets/colab-badge.svg\" alt=\"Open In Colab\"/></a>"
      ]
    },
    {
      "cell_type": "markdown",
      "metadata": {
        "id": "XL2k79ss4FQx"
      },
      "source": [
        "#Import \n"
      ]
    },
    {
      "cell_type": "code",
      "metadata": {
        "id": "3_5NPjd7mnwa",
        "colab": {
          "base_uri": "https://localhost:8080/"
        },
        "outputId": "c0d2e556-89fc-4738-fe9c-029b944442a7"
      },
      "source": [
        "import tensorflow.compat.v1 as tf #Machine Learning\n",
        "!pip install yfinance --upgrade --no-cache-dir #Install yfinance\n",
        "import yfinance as yf #Import yahoo finance\n",
        "yf.pdr_override()\n",
        "import pandas as pd\n",
        "import numpy as np\n",
        "import matplotlib.pyplot as plt\n",
        "import pandas_datareader.data as web\n",
        "#tf.disable_v2_behavior()\n",
        "from sklearn.preprocessing import StandardScaler, Normalizer, MinMaxScaler\n",
        "from sklearn.model_selection import train_test_split\n",
        "from sklearn.naive_bayes import GaussianNB\n",
        "import requests\n",
        "import random\n",
        "!pip install bt\n",
        "import bt\n",
        "import matplotlib\n",
        "matplotlib.rcParams['figure.figsize'] = (16,8)\n",
        "matplotlib.rcParams.update({'font.size': 22})"
      ],
      "execution_count": 1,
      "outputs": [
        {
          "output_type": "stream",
          "name": "stdout",
          "text": [
            "Collecting yfinance\n",
            "  Downloading yfinance-0.1.64.tar.gz (26 kB)\n",
            "Requirement already satisfied: pandas>=0.24 in /usr/local/lib/python3.7/dist-packages (from yfinance) (1.1.5)\n",
            "Requirement already satisfied: numpy>=1.15 in /usr/local/lib/python3.7/dist-packages (from yfinance) (1.19.5)\n",
            "Requirement already satisfied: requests>=2.20 in /usr/local/lib/python3.7/dist-packages (from yfinance) (2.23.0)\n",
            "Requirement already satisfied: multitasking>=0.0.7 in /usr/local/lib/python3.7/dist-packages (from yfinance) (0.0.9)\n",
            "Collecting lxml>=4.5.1\n",
            "  Downloading lxml-4.6.3-cp37-cp37m-manylinux2014_x86_64.whl (6.3 MB)\n",
            "\u001b[K     |████████████████████████████████| 6.3 MB 19.4 MB/s \n",
            "\u001b[?25hRequirement already satisfied: python-dateutil>=2.7.3 in /usr/local/lib/python3.7/dist-packages (from pandas>=0.24->yfinance) (2.8.2)\n",
            "Requirement already satisfied: pytz>=2017.2 in /usr/local/lib/python3.7/dist-packages (from pandas>=0.24->yfinance) (2018.9)\n",
            "Requirement already satisfied: six>=1.5 in /usr/local/lib/python3.7/dist-packages (from python-dateutil>=2.7.3->pandas>=0.24->yfinance) (1.15.0)\n",
            "Requirement already satisfied: idna<3,>=2.5 in /usr/local/lib/python3.7/dist-packages (from requests>=2.20->yfinance) (2.10)\n",
            "Requirement already satisfied: certifi>=2017.4.17 in /usr/local/lib/python3.7/dist-packages (from requests>=2.20->yfinance) (2021.5.30)\n",
            "Requirement already satisfied: urllib3!=1.25.0,!=1.25.1,<1.26,>=1.21.1 in /usr/local/lib/python3.7/dist-packages (from requests>=2.20->yfinance) (1.24.3)\n",
            "Requirement already satisfied: chardet<4,>=3.0.2 in /usr/local/lib/python3.7/dist-packages (from requests>=2.20->yfinance) (3.0.4)\n",
            "Building wheels for collected packages: yfinance\n",
            "  Building wheel for yfinance (setup.py) ... \u001b[?25l\u001b[?25hdone\n",
            "  Created wheel for yfinance: filename=yfinance-0.1.64-py2.py3-none-any.whl size=24109 sha256=344a2950755d4678e12558f1c838e9ea6f34fde4257052d6875abf8a188d4d03\n",
            "  Stored in directory: /tmp/pip-ephem-wheel-cache-vq33woup/wheels/86/fe/9b/a4d3d78796b699e37065e5b6c27b75cff448ddb8b24943c288\n",
            "Successfully built yfinance\n",
            "Installing collected packages: lxml, yfinance\n",
            "  Attempting uninstall: lxml\n",
            "    Found existing installation: lxml 4.2.6\n",
            "    Uninstalling lxml-4.2.6:\n",
            "      Successfully uninstalled lxml-4.2.6\n",
            "Successfully installed lxml-4.6.3 yfinance-0.1.64\n",
            "Collecting bt\n",
            "  Downloading bt-0.2.9.tar.gz (2.7 MB)\n",
            "\u001b[K     |████████████████████████████████| 2.7 MB 11.9 MB/s \n",
            "\u001b[?25h  Installing build dependencies ... \u001b[?25l\u001b[?25hdone\n",
            "  Getting requirements to build wheel ... \u001b[?25l\u001b[?25hdone\n",
            "    Preparing wheel metadata ... \u001b[?25l\u001b[?25hdone\n",
            "Collecting ffn>=0.3.5\n",
            "  Downloading ffn-0.3.6-py2.py3-none-any.whl (25 kB)\n",
            "Collecting pyprind>=2.11\n",
            "  Downloading PyPrind-2.11.3-py2.py3-none-any.whl (8.4 kB)\n",
            "Requirement already satisfied: matplotlib>=1 in /usr/local/lib/python3.7/dist-packages (from ffn>=0.3.5->bt) (3.2.2)\n",
            "Requirement already satisfied: scikit-learn>=0.15 in /usr/local/lib/python3.7/dist-packages (from ffn>=0.3.5->bt) (0.22.2.post1)\n",
            "Requirement already satisfied: future>=0.15 in /usr/local/lib/python3.7/dist-packages (from ffn>=0.3.5->bt) (0.16.0)\n",
            "Requirement already satisfied: tabulate>=0.7.5 in /usr/local/lib/python3.7/dist-packages (from ffn>=0.3.5->bt) (0.8.9)\n",
            "Requirement already satisfied: numpy>=1.5 in /usr/local/lib/python3.7/dist-packages (from ffn>=0.3.5->bt) (1.19.5)\n",
            "Requirement already satisfied: pandas>=0.19 in /usr/local/lib/python3.7/dist-packages (from ffn>=0.3.5->bt) (1.1.5)\n",
            "Requirement already satisfied: scipy>=0.15 in /usr/local/lib/python3.7/dist-packages (from ffn>=0.3.5->bt) (1.4.1)\n",
            "Requirement already satisfied: pandas-datareader>=0.2 in /usr/local/lib/python3.7/dist-packages (from ffn>=0.3.5->bt) (0.9.0)\n",
            "Requirement already satisfied: decorator>=4 in /usr/local/lib/python3.7/dist-packages (from ffn>=0.3.5->bt) (4.4.2)\n",
            "Requirement already satisfied: cycler>=0.10 in /usr/local/lib/python3.7/dist-packages (from matplotlib>=1->ffn>=0.3.5->bt) (0.10.0)\n",
            "Requirement already satisfied: kiwisolver>=1.0.1 in /usr/local/lib/python3.7/dist-packages (from matplotlib>=1->ffn>=0.3.5->bt) (1.3.2)\n",
            "Requirement already satisfied: pyparsing!=2.0.4,!=2.1.2,!=2.1.6,>=2.0.1 in /usr/local/lib/python3.7/dist-packages (from matplotlib>=1->ffn>=0.3.5->bt) (2.4.7)\n",
            "Requirement already satisfied: python-dateutil>=2.1 in /usr/local/lib/python3.7/dist-packages (from matplotlib>=1->ffn>=0.3.5->bt) (2.8.2)\n",
            "Requirement already satisfied: six in /usr/local/lib/python3.7/dist-packages (from cycler>=0.10->matplotlib>=1->ffn>=0.3.5->bt) (1.15.0)\n",
            "Requirement already satisfied: pytz>=2017.2 in /usr/local/lib/python3.7/dist-packages (from pandas>=0.19->ffn>=0.3.5->bt) (2018.9)\n",
            "Requirement already satisfied: lxml in /usr/local/lib/python3.7/dist-packages (from pandas-datareader>=0.2->ffn>=0.3.5->bt) (4.6.3)\n",
            "Requirement already satisfied: requests>=2.19.0 in /usr/local/lib/python3.7/dist-packages (from pandas-datareader>=0.2->ffn>=0.3.5->bt) (2.23.0)\n",
            "Requirement already satisfied: idna<3,>=2.5 in /usr/local/lib/python3.7/dist-packages (from requests>=2.19.0->pandas-datareader>=0.2->ffn>=0.3.5->bt) (2.10)\n",
            "Requirement already satisfied: urllib3!=1.25.0,!=1.25.1,<1.26,>=1.21.1 in /usr/local/lib/python3.7/dist-packages (from requests>=2.19.0->pandas-datareader>=0.2->ffn>=0.3.5->bt) (1.24.3)\n",
            "Requirement already satisfied: chardet<4,>=3.0.2 in /usr/local/lib/python3.7/dist-packages (from requests>=2.19.0->pandas-datareader>=0.2->ffn>=0.3.5->bt) (3.0.4)\n",
            "Requirement already satisfied: certifi>=2017.4.17 in /usr/local/lib/python3.7/dist-packages (from requests>=2.19.0->pandas-datareader>=0.2->ffn>=0.3.5->bt) (2021.5.30)\n",
            "Requirement already satisfied: joblib>=0.11 in /usr/local/lib/python3.7/dist-packages (from scikit-learn>=0.15->ffn>=0.3.5->bt) (1.0.1)\n",
            "Building wheels for collected packages: bt\n",
            "  Building wheel for bt (PEP 517) ... \u001b[?25l\u001b[?25hdone\n",
            "  Created wheel for bt: filename=bt-0.2.9-cp37-cp37m-linux_x86_64.whl size=765323 sha256=0fd99ecc63230b0a63ef9605315ef7bace68dd400323180ab2db1dc76660ec20\n",
            "  Stored in directory: /root/.cache/pip/wheels/c5/1a/3f/b56e6064b766c107f25e200969161c09ca6868cbfe0eaa31e4\n",
            "Successfully built bt\n",
            "Installing collected packages: pyprind, ffn, bt\n",
            "Successfully installed bt-0.2.9 ffn-0.3.6 pyprind-2.11.3\n"
          ]
        }
      ]
    },
    {
      "cell_type": "markdown",
      "metadata": {
        "id": "ZlUI_PpTLEZN"
      },
      "source": [
        "#Base de Dados (Código Definitivo)"
      ]
    },
    {
      "cell_type": "code",
      "metadata": {
        "id": "8mZuaye9LKBY"
      },
      "source": [
        "def get_stock_data(stocks, start_date, end_date):\n",
        "  #####\n",
        "  ####\n",
        "  #Ideias futuras: Colocar como entrada uma lista de ações\n",
        "  #\n",
        "  ####\n",
        "  ####\n",
        "  #Function to get data stocks\n",
        "  #date format: yy-m-d (string)\n",
        "  #############################\n",
        "  ###### Importação ###########\n",
        "  #############################\n",
        "  stocks_list = list(np.zeros((len(stocks))))\n",
        "  for i in range(len(stocks)):\n",
        "    stocks_list[i] = str(stocks[i]) + '.SA'\n",
        "\n",
        "  data_ = web.get_data_yahoo(stocks_list, start = start_date, end=end_date)['Adj Close']\n",
        "  data = web.get_data_yahoo(stocks_list, start = start_date, end=end_date)['Adj Close']\n",
        "  ##################################\n",
        "  ####### Tratamento de Dados#######\n",
        "  ##################################\n",
        "  ############\n",
        "  #Dados = 0 #\n",
        "  ############\n",
        "\n",
        "  for i in range(len(data.columns)):\n",
        "    data_zero = data.loc[data[data.columns[i]] == 0]\n",
        "    if len(data_zero) != 0:\n",
        "      data.drop(data_zero.index, inplace = True)\n",
        "\n",
        "  ###########\n",
        "  #Dados < 0#\n",
        "  ###########\n",
        "\n",
        "  for i in range(len(data.columns)):\n",
        "    data_zero = data.loc[data[data.columns[i]] < 0]\n",
        "    if len(data_zero) != 0:\n",
        "      data.drop(data_zero.index, inplace = True)\n",
        "\n",
        "  #################\n",
        "  #Dados Faltantes#\n",
        "  #################\n",
        "  data.dropna()\n",
        "  #################\n",
        "  # Escalonamento #\n",
        "  #################\n",
        "  #scaler = MinMaxScaler()\n",
        "  #data = scaler.fit_transform(data)\n",
        "\n",
        "  data = pd.DataFrame(data, columns= data_.columns)\n",
        "  data = data.rename(columns = {'Adj Close': 'Adj_Close'})\n",
        "\n",
        "  ###############################\n",
        "  #### Up [1 0] or Down [0 1] ###\n",
        "  ###############################\n",
        "  '''\n",
        "  price_diff = []\n",
        "  for i in range(len(data.Open)-1):\n",
        "    if data.Open[i + 1] >= data.Adj_Close[i]:\n",
        "      price_diff.append([1, 0])\n",
        "    else:\n",
        "      price_diff.append([0, 1])\n",
        "  price_diff[0] = [1, 0]\n",
        "  '''\n",
        "  ###### Add new Column ########\n",
        "  return data\n",
        "\n",
        "\n",
        "\n",
        "########################\n",
        "#Dados Fundamentalistas#\n",
        "########################\n",
        "def Dados_Fundamentalistas():\n",
        "  url = 'http://www.fundamentus.com.br/resultado.php'\n",
        "  \n",
        "  header = {\n",
        "  \"User-Agent\": \"Mozilla/5.0 (Windows NT 10.0; Win64; x64) AppleWebKit/537.36 (KHTML, like Gecko) Chrome/84.0.4147.89 Safari/537.36\"  }\n",
        "  r = requests.get(url, headers=header)\n",
        "\n",
        "  dados = pd.read_html(r.text,  decimal=',', thousands='.')[0]\n",
        "  \n",
        "  #No Fundamentos o decimal é dado por ',' e milhares em '.', e porcentagem esta em 'string', para concertar isso temos\n",
        "  for coluna in ['Div.Yield', 'Mrg Ebit', 'Mrg. Líq.', 'ROIC', 'ROE', 'Cresc. Rec.5a']:\n",
        "    dados[coluna] = dados[coluna].str.replace('.', '')\n",
        "    dados[coluna] = dados[coluna].str.replace(',', '.')\n",
        "    dados[coluna] = dados[coluna].str.rstrip('%').astype('float') / 100\n",
        "\n",
        "\n",
        "  #Evitando empresas muito pequenas.\n",
        "  #Empresas muito pequenas tendem a ter dados faltantes no Fundamentos\n",
        "  dados = dados[dados['Liq.2meses'] > 1000000]\n",
        "\n",
        "  #################\n",
        "  #Pegando Setores#\n",
        "  #################\n",
        "  # O último comando retirou muitas ações\n",
        "  # portanto nem todos os indices estão disponiveis.\n",
        "  # precisamos resetar os indices\n",
        "  dados = dados.reset_index(drop = True)\n",
        "  \n",
        "  Lista_de_setores = []\n",
        "\n",
        "  for i in range(len(dados.index)):\n",
        "    url_setor = 'http://www.fundamentus.com.br/detalhes.php?papel=' + '%s' %dados.Papel[i]\n",
        "    r = requests.get(url_setor, headers=header)\n",
        "    Dados_Setor = pd.read_html(r.text,  decimal=',', thousands='.')[0]\n",
        "    Lista_de_setores.append(Dados_Setor[1][3])\n",
        "\n",
        "  #Criando nova coluna\n",
        "  dados['Setor'] = Lista_de_setores\n",
        "\n",
        "  return dados\n",
        "\n",
        "\n",
        "\n",
        "def Carteira(period_= '1y'):\n",
        "  nome_acoes = Dados_Fundamentalistas().Papel\n",
        "\n",
        "  tickers_ = []\n",
        "  for i in range(len(nome_acoes)):\n",
        "    tickers_.append('%s' %nome_acoes[i] + '.SA')\n",
        "\n",
        "  dados_ = yf.download(tickers=tickers_, period= period_)[\"Adj Close\"]\n",
        "\n",
        "  #Excluir colunas que estejam sem dados\n",
        "  dados_.dropna(how='all', inplace=True)\n",
        "\n",
        "  #Excluir colunas que tenham mais de um dado faltante\n",
        "  dados_.dropna(axis=1, inplace=True, thresh=len(dados_.index) - 1)\n",
        "\n",
        "\n",
        "  return dados_\n",
        "\n",
        "\n",
        "def Random_Carteira(period_ = '1y'):\n",
        "  #Cria tabela retorno, com a varição em porcentagem de cada ativo\n",
        "  retorno = Carteira().pct_change()\n",
        "  \n",
        "  #Retorno Acumulado\n",
        "  retorno_acumulado = (1 + retorno).cumprod()\n",
        "  retorno_acumulado.iloc[0] = 1\n",
        "\n",
        "  carteira_random_acoes = []\n",
        "  for i in range(500):\n",
        "    carteira_random = random.sample(list(retorno.columns) , k=5)\n",
        "    carteira_random_acoes.append(carteira_random)\n",
        "    carteira_random = 10000 * retorno_acumulado.loc[: , carteira_random]\n",
        "    carteira_random['saldo'] = carteira_random.sum(axis=1)\n",
        "    carteira_random['saldo'].plot(figsize=(18,8))\n",
        "    #print(carteira_random['saldo'][len(carteira_random)]/carteira_random['saldo'][0])\n",
        "\n",
        "\n",
        "  #Download dados do BOVA11\n",
        "  ibov = yf.download('BOVA11.SA', period= period_)[\"Adj Close\"]\n",
        "  #Normalizando BOVA11\n",
        "  ibov = ibov / ibov.iloc[0]\n",
        "\n",
        "  (ibov*50000).plot(linewidth=4, color='black')\n",
        "  '''\n",
        "  buy_hold = bt.Strategy('Buy&Hold', \n",
        "                   [ bt.algos.RunOnce(),\n",
        "                     bt.algos.SelectAll(),\n",
        "                     bt.algos.WeighEqually(),\n",
        "                     bt.algos.Rebalance()]\n",
        "                    )\n",
        "\n",
        "  #Backtesting\n",
        "  for j in range(len(carteira_random_acoes)):\n",
        "    print(carteira_random_acoes[j])\n",
        "    dados_ = yf.download(tickers=carteira_random_acoes[j], period= period_)[\"Adj Close\"]\n",
        "    bt1 = bt.Backtest(buy_hold, dados_)\n",
        "    resultados = bt.run(bt1)\n",
        "    resultados.display()\n",
        "   '''\n",
        "  return retorno_acumulado\n",
        "\n",
        "\n",
        "\n",
        "\n",
        "\n",
        "###########################################\n",
        "### Criando Base de Teste e Treinamento ###\n",
        "###########################################\n",
        "def train_test(data):\n",
        "  data_treinamento, data_test = train_test_split(data, test_size = 0.25, random_state = 0)\n",
        "  return data_treinamento, data_test\n",
        "\n",
        "\n",
        "\n",
        "##########################################\n",
        "############## SOURCE ####################\n",
        "##########################################\n",
        "\n",
        "def main(stocks, start_date, final_date):\n",
        "  data = get_stock_data(stocks, start_date, final_date)\n",
        "\n",
        "\n",
        "  return\n",
        "  "
      ],
      "execution_count": 2,
      "outputs": []
    },
    {
      "cell_type": "code",
      "metadata": {
        "colab": {
          "base_uri": "https://localhost:8080/",
          "height": 467
        },
        "id": "ZrEvvBdEx9hv",
        "outputId": "7a74e354-dd3a-4809-da6d-1825a6d8312a"
      },
      "source": [
        "web.get_data_yahoo('ITSA4.SA', start = \"2005-05-25\", end=\"2008-05-25\")"
      ],
      "execution_count": 3,
      "outputs": [
        {
          "output_type": "stream",
          "name": "stdout",
          "text": [
            "\r[*********************100%***********************]  1 of 1 completed\n"
          ]
        },
        {
          "output_type": "execute_result",
          "data": {
            "text/html": [
              "<div>\n",
              "<style scoped>\n",
              "    .dataframe tbody tr th:only-of-type {\n",
              "        vertical-align: middle;\n",
              "    }\n",
              "\n",
              "    .dataframe tbody tr th {\n",
              "        vertical-align: top;\n",
              "    }\n",
              "\n",
              "    .dataframe thead th {\n",
              "        text-align: right;\n",
              "    }\n",
              "</style>\n",
              "<table border=\"1\" class=\"dataframe\">\n",
              "  <thead>\n",
              "    <tr style=\"text-align: right;\">\n",
              "      <th></th>\n",
              "      <th>Open</th>\n",
              "      <th>High</th>\n",
              "      <th>Low</th>\n",
              "      <th>Close</th>\n",
              "      <th>Adj Close</th>\n",
              "      <th>Volume</th>\n",
              "    </tr>\n",
              "    <tr>\n",
              "      <th>Date</th>\n",
              "      <th></th>\n",
              "      <th></th>\n",
              "      <th></th>\n",
              "      <th></th>\n",
              "      <th></th>\n",
              "      <th></th>\n",
              "    </tr>\n",
              "  </thead>\n",
              "  <tbody>\n",
              "    <tr>\n",
              "      <th>2005-05-25</th>\n",
              "      <td>2.684681</td>\n",
              "      <td>2.706508</td>\n",
              "      <td>2.635571</td>\n",
              "      <td>2.651941</td>\n",
              "      <td>1.459940</td>\n",
              "      <td>4709703</td>\n",
              "    </tr>\n",
              "    <tr>\n",
              "      <th>2005-05-27</th>\n",
              "      <td>2.728335</td>\n",
              "      <td>2.733791</td>\n",
              "      <td>2.662855</td>\n",
              "      <td>2.679225</td>\n",
              "      <td>1.474960</td>\n",
              "      <td>2640804</td>\n",
              "    </tr>\n",
              "    <tr>\n",
              "      <th>2005-05-30</th>\n",
              "      <td>2.662855</td>\n",
              "      <td>2.711965</td>\n",
              "      <td>2.646485</td>\n",
              "      <td>2.673768</td>\n",
              "      <td>1.471956</td>\n",
              "      <td>2528923</td>\n",
              "    </tr>\n",
              "    <tr>\n",
              "      <th>2005-05-31</th>\n",
              "      <td>2.651941</td>\n",
              "      <td>2.701051</td>\n",
              "      <td>2.651941</td>\n",
              "      <td>2.684681</td>\n",
              "      <td>1.477964</td>\n",
              "      <td>6544155</td>\n",
              "    </tr>\n",
              "    <tr>\n",
              "      <th>2005-06-01</th>\n",
              "      <td>2.701051</td>\n",
              "      <td>2.750161</td>\n",
              "      <td>2.684681</td>\n",
              "      <td>2.728335</td>\n",
              "      <td>1.501996</td>\n",
              "      <td>10821453</td>\n",
              "    </tr>\n",
              "    <tr>\n",
              "      <th>...</th>\n",
              "      <td>...</td>\n",
              "      <td>...</td>\n",
              "      <td>...</td>\n",
              "      <td>...</td>\n",
              "      <td>...</td>\n",
              "      <td>...</td>\n",
              "    </tr>\n",
              "    <tr>\n",
              "      <th>2008-05-16</th>\n",
              "      <td>5.518423</td>\n",
              "      <td>5.533337</td>\n",
              "      <td>5.409048</td>\n",
              "      <td>5.423963</td>\n",
              "      <td>2.990046</td>\n",
              "      <td>23598665</td>\n",
              "    </tr>\n",
              "    <tr>\n",
              "      <th>2008-05-19</th>\n",
              "      <td>5.463736</td>\n",
              "      <td>5.518423</td>\n",
              "      <td>5.423963</td>\n",
              "      <td>5.458764</td>\n",
              "      <td>3.009230</td>\n",
              "      <td>24533182</td>\n",
              "    </tr>\n",
              "    <tr>\n",
              "      <th>2008-05-20</th>\n",
              "      <td>5.404077</td>\n",
              "      <td>5.404077</td>\n",
              "      <td>5.309617</td>\n",
              "      <td>5.354361</td>\n",
              "      <td>2.951677</td>\n",
              "      <td>22259445</td>\n",
              "    </tr>\n",
              "    <tr>\n",
              "      <th>2008-05-21</th>\n",
              "      <td>5.364304</td>\n",
              "      <td>5.364304</td>\n",
              "      <td>5.254930</td>\n",
              "      <td>5.294703</td>\n",
              "      <td>2.918790</td>\n",
              "      <td>34743272</td>\n",
              "    </tr>\n",
              "    <tr>\n",
              "      <th>2008-05-23</th>\n",
              "      <td>5.244987</td>\n",
              "      <td>5.309617</td>\n",
              "      <td>5.175386</td>\n",
              "      <td>5.220129</td>\n",
              "      <td>2.877678</td>\n",
              "      <td>12672500</td>\n",
              "    </tr>\n",
              "  </tbody>\n",
              "</table>\n",
              "<p>751 rows × 6 columns</p>\n",
              "</div>"
            ],
            "text/plain": [
              "                Open      High       Low     Close  Adj Close    Volume\n",
              "Date                                                                   \n",
              "2005-05-25  2.684681  2.706508  2.635571  2.651941   1.459940   4709703\n",
              "2005-05-27  2.728335  2.733791  2.662855  2.679225   1.474960   2640804\n",
              "2005-05-30  2.662855  2.711965  2.646485  2.673768   1.471956   2528923\n",
              "2005-05-31  2.651941  2.701051  2.651941  2.684681   1.477964   6544155\n",
              "2005-06-01  2.701051  2.750161  2.684681  2.728335   1.501996  10821453\n",
              "...              ...       ...       ...       ...        ...       ...\n",
              "2008-05-16  5.518423  5.533337  5.409048  5.423963   2.990046  23598665\n",
              "2008-05-19  5.463736  5.518423  5.423963  5.458764   3.009230  24533182\n",
              "2008-05-20  5.404077  5.404077  5.309617  5.354361   2.951677  22259445\n",
              "2008-05-21  5.364304  5.364304  5.254930  5.294703   2.918790  34743272\n",
              "2008-05-23  5.244987  5.309617  5.175386  5.220129   2.877678  12672500\n",
              "\n",
              "[751 rows x 6 columns]"
            ]
          },
          "metadata": {},
          "execution_count": 3
        }
      ]
    },
    {
      "cell_type": "code",
      "metadata": {
        "id": "LThqbmQm-y0Z",
        "colab": {
          "base_uri": "https://localhost:8080/"
        },
        "outputId": "fd5c7973-8bea-4c08-9d16-662c36baee66"
      },
      "source": [
        "stocks = [ 'BIDI4','CVCB3','ENBR3','ITSA4','MYPK3','ODPV3' , 'RAPT4'] \n",
        "data_inicio = '2020-01-01'\n",
        "data_fim    = '2020-9-1'\n",
        "weight = [0.1647,0.0634,0.0436,0.1412, 0.1065, 0.0158, 0.1180]\n",
        "A = get_stock_data(stocks, data_inicio, data_fim)\n",
        "\n",
        "def Backtesting(stocks,data_inicio,data_fim,weight):\n",
        "  ####Precisamos redefinir a string se não o bt não reconhece para o backtesting\n",
        "  ####por exemplo, precisamos mudar: ITSA4 por ITSA\n",
        "  ####\n",
        "  stocks_redefine = list(np.zeros((len(stocks))))\n",
        "  for i in range(len(stocks_redefine)):\n",
        "    stocks_redefine[i] = stocks[i][0] + stocks[i][1] + stocks[i][2] + stocks[i][3]\n",
        "  #\n",
        "  # Criando uma carteira\n",
        "  #\n",
        "  carteira = get_stock_data(stocks, data_inicio, data_fim)\n",
        "  for i in range(len(carteira.columns)):\n",
        "    carteira = carteira.rename(columns = {carteira.columns[i]: carteira.columns[i][0] + carteira.columns[i][1] + carteira.columns[i][2] + carteira.columns[i][3]})\n",
        "\n",
        "  #\n",
        "  # Criando um backtesting\n",
        "  #\n",
        "  \n",
        "  #Especificando pesos\n",
        "  weights = pd.Series(weight,index = carteira.columns)\n",
        "  weighSpecifiedAlgo = bt.algos.WeighSpecified(**weights)\n",
        "  ###\n",
        "  #Estrategia Buy & Hold\n",
        "  buy_hold = bt.Strategy('Buy&Hold', \n",
        "                   [ bt.algos.RunOnce(),\n",
        "                     bt.algos.SelectAll(),\n",
        "                     weighSpecifiedAlgo,\n",
        "                     bt.algos.Rebalance()\n",
        "                     ]\n",
        "                    )\n",
        "  bt2 = bt.Backtest(buy_hold, carteira)\n",
        "  resultado = bt.run(bt2)\n",
        "  resultado.plot()\n",
        "  plt.title('Carteira')\n",
        "  return resultado.display()"
      ],
      "execution_count": 8,
      "outputs": [
        {
          "output_type": "stream",
          "name": "stdout",
          "text": [
            "[*********************100%***********************]  7 of 7 completed\n",
            "[*********************100%***********************]  7 of 7 completed\n"
          ]
        }
      ]
    },
    {
      "cell_type": "code",
      "metadata": {
        "id": "YEpoWw40Kz5f",
        "colab": {
          "base_uri": "https://localhost:8080/",
          "height": 1000
        },
        "outputId": "da3d7da8-6ba7-45ba-8109-b4ade3306d9d"
      },
      "source": [
        "Backtesting(stocks, data_inicio, data_fim,weight)"
      ],
      "execution_count": 9,
      "outputs": [
        {
          "output_type": "stream",
          "name": "stdout",
          "text": [
            "[*********************100%***********************]  7 of 7 completed\n",
            "[*********************100%***********************]  7 of 7 completed\n",
            "Stat                 Buy&Hold\n",
            "-------------------  ----------\n",
            "Start                2020-01-01\n",
            "End                  2020-08-31\n",
            "Risk-free rate       0.00%\n",
            "\n",
            "Total Return         -10.26%\n",
            "Daily Sharpe         -0.32\n",
            "Daily Sortino        -0.44\n",
            "CAGR                 -15.02%\n",
            "Max Drawdown         -36.90%\n",
            "Calmar Ratio         -0.41\n",
            "\n",
            "MTD                  -1.20%\n",
            "3m                   17.68%\n",
            "6m                   -0.48%\n",
            "YTD                  -10.26%\n",
            "1Y                   -\n",
            "3Y (ann.)            -\n",
            "5Y (ann.)            -\n",
            "10Y (ann.)           -\n",
            "Since Incep. (ann.)  -15.02%\n",
            "\n",
            "Daily Sharpe         -0.32\n",
            "Daily Sortino        -0.44\n",
            "Daily Mean (ann.)    -10.68%\n",
            "Daily Vol (ann.)     33.72%\n",
            "Daily Skew           -1.11\n",
            "Daily Kurt           5.09\n",
            "Best Day             7.43%\n",
            "Worst Day            -9.17%\n",
            "\n",
            "Monthly Sharpe       -0.13\n",
            "Monthly Sortino      -0.18\n",
            "Monthly Mean (ann.)  -5.12%\n",
            "Monthly Vol (ann.)   38.60%\n",
            "Monthly Skew         -1.32\n",
            "Monthly Kurt         2.04\n",
            "Best Month           12.12%\n",
            "Worst Month          -22.01%\n",
            "\n",
            "Yearly Sharpe        -\n",
            "Yearly Sortino       -\n",
            "Yearly Mean          -\n",
            "Yearly Vol           -\n",
            "Yearly Skew          -\n",
            "Yearly Kurt          -\n",
            "Best Year            -\n",
            "Worst Year           -\n",
            "\n",
            "Avg. Drawdown        -12.62%\n",
            "Avg. Drawdown Days   76.67\n",
            "Avg. Up Month        6.65%\n",
            "Avg. Down Month      -9.86%\n",
            "Win Year %           -\n",
            "Win 12m %            -\n"
          ]
        },
        {
          "output_type": "display_data",
          "data": {
            "image/png": "[encoded data removed]",
            "text/plain": [
              "<Figure size 1080x360 with 1 Axes>"
            ]
          },
          "metadata": {
            "needs_background": "light"
          }
        }
      ]
    },
    {
      "cell_type": "markdown",
      "metadata": {
        "id": "rQ5BIgclo-y2"
      },
      "source": [
        "# Analise Técnica "
      ]
    },
    {
      "cell_type": "code",
      "metadata": {
        "colab": {
          "base_uri": "https://localhost:8080/"
        },
        "id": "CGiDklI6pID2",
        "outputId": "a3db89fa-dd85-49af-b017-6f321d3e8b3e"
      },
      "source": [
        "!pip install pyqstrat"
      ],
      "execution_count": 10,
      "outputs": [
        {
          "output_type": "stream",
          "name": "stdout",
          "text": [
            "Collecting pyqstrat\n",
            "  Downloading pyqstrat-0.3.15.tar.gz (3.4 MB)\n",
            "\u001b[K     |████████████████████████████████| 3.4 MB 11.5 MB/s \n",
            "\u001b[?25hRequirement already satisfied: pandas>=0.22 in /usr/local/lib/python3.7/dist-packages (from pyqstrat) (1.1.5)\n",
            "Requirement already satisfied: numpy>=1.14 in /usr/local/lib/python3.7/dist-packages (from pyqstrat) (1.19.5)\n",
            "Requirement already satisfied: matplotlib>=2.2.2 in /usr/local/lib/python3.7/dist-packages (from pyqstrat) (3.2.2)\n",
            "Requirement already satisfied: scipy>=1.0.0 in /usr/local/lib/python3.7/dist-packages (from pyqstrat) (1.4.1)\n",
            "Collecting statsmodels>=0.11\n",
            "  Downloading statsmodels-0.13.0-cp37-cp37m-manylinux_2_17_x86_64.manylinux2014_x86_64.whl (9.8 MB)\n",
            "\u001b[K     |████████████████████████████████| 9.8 MB 66.5 MB/s \n",
            "\u001b[?25hCollecting ipython>=6.5.0\n",
            "  Downloading ipython-7.28.0-py3-none-any.whl (788 kB)\n",
            "\u001b[K     |████████████████████████████████| 788 kB 84.5 MB/s \n",
            "\u001b[?25hCollecting pybind11>=2.2\n",
            "  Using cached pybind11-2.8.1-py2.py3-none-any.whl (208 kB)\n",
            "Requirement already satisfied: sortedcontainers>=2.0.5 in /usr/local/lib/python3.7/dist-packages (from pyqstrat) (2.4.0)\n",
            "Requirement already satisfied: h5py>=2.9 in /usr/local/lib/python3.7/dist-packages (from pyqstrat) (3.1.0)\n",
            "Requirement already satisfied: ipywidgets>=7.5 in /usr/local/lib/python3.7/dist-packages (from pyqstrat) (7.6.5)\n",
            "Collecting plotly>=4.10\n",
            "  Downloading plotly-5.3.1-py2.py3-none-any.whl (23.9 MB)\n",
            "\u001b[K     |████████████████████████████████| 23.9 MB 1.3 MB/s \n",
            "\u001b[?25hRequirement already satisfied: cached-property in /usr/local/lib/python3.7/dist-packages (from h5py>=2.9->pyqstrat) (1.5.2)\n",
            "Collecting prompt-toolkit!=3.0.0,!=3.0.1,<3.1.0,>=2.0.0\n",
            "  Downloading prompt_toolkit-3.0.21-py3-none-any.whl (374 kB)\n",
            "\u001b[K     |████████████████████████████████| 374 kB 54.6 MB/s \n",
            "\u001b[?25hRequirement already satisfied: pexpect>4.3 in /usr/local/lib/python3.7/dist-packages (from ipython>=6.5.0->pyqstrat) (4.8.0)\n",
            "Requirement already satisfied: pickleshare in /usr/local/lib/python3.7/dist-packages (from ipython>=6.5.0->pyqstrat) (0.7.5)\n",
            "Requirement already satisfied: backcall in /usr/local/lib/python3.7/dist-packages (from ipython>=6.5.0->pyqstrat) (0.2.0)\n",
            "Requirement already satisfied: jedi>=0.16 in /usr/local/lib/python3.7/dist-packages (from ipython>=6.5.0->pyqstrat) (0.18.0)\n",
            "Requirement already satisfied: pygments in /usr/local/lib/python3.7/dist-packages (from ipython>=6.5.0->pyqstrat) (2.6.1)\n",
            "Requirement already satisfied: matplotlib-inline in /usr/local/lib/python3.7/dist-packages (from ipython>=6.5.0->pyqstrat) (0.1.3)\n",
            "Requirement already satisfied: decorator in /usr/local/lib/python3.7/dist-packages (from ipython>=6.5.0->pyqstrat) (4.4.2)\n",
            "Requirement already satisfied: traitlets>=4.2 in /usr/local/lib/python3.7/dist-packages (from ipython>=6.5.0->pyqstrat) (5.1.0)\n",
            "Requirement already satisfied: setuptools>=18.5 in /usr/local/lib/python3.7/dist-packages (from ipython>=6.5.0->pyqstrat) (57.4.0)\n",
            "Requirement already satisfied: widgetsnbextension~=3.5.0 in /usr/local/lib/python3.7/dist-packages (from ipywidgets>=7.5->pyqstrat) (3.5.1)\n",
            "Requirement already satisfied: jupyterlab-widgets>=1.0.0 in /usr/local/lib/python3.7/dist-packages (from ipywidgets>=7.5->pyqstrat) (1.0.2)\n",
            "Requirement already satisfied: ipykernel>=4.5.1 in /usr/local/lib/python3.7/dist-packages (from ipywidgets>=7.5->pyqstrat) (4.10.1)\n",
            "Requirement already satisfied: ipython-genutils~=0.2.0 in /usr/local/lib/python3.7/dist-packages (from ipywidgets>=7.5->pyqstrat) (0.2.0)\n",
            "Requirement already satisfied: nbformat>=4.2.0 in /usr/local/lib/python3.7/dist-packages (from ipywidgets>=7.5->pyqstrat) (5.1.3)\n",
            "Requirement already satisfied: tornado>=4.0 in /usr/local/lib/python3.7/dist-packages (from ipykernel>=4.5.1->ipywidgets>=7.5->pyqstrat) (5.1.1)\n",
            "Requirement already satisfied: jupyter-client in /usr/local/lib/python3.7/dist-packages (from ipykernel>=4.5.1->ipywidgets>=7.5->pyqstrat) (5.3.5)\n",
            "Requirement already satisfied: parso<0.9.0,>=0.8.0 in /usr/local/lib/python3.7/dist-packages (from jedi>=0.16->ipython>=6.5.0->pyqstrat) (0.8.2)\n",
            "Requirement already satisfied: kiwisolver>=1.0.1 in /usr/local/lib/python3.7/dist-packages (from matplotlib>=2.2.2->pyqstrat) (1.3.2)\n",
            "Requirement already satisfied: cycler>=0.10 in /usr/local/lib/python3.7/dist-packages (from matplotlib>=2.2.2->pyqstrat) (0.10.0)\n",
            "Requirement already satisfied: pyparsing!=2.0.4,!=2.1.2,!=2.1.6,>=2.0.1 in /usr/local/lib/python3.7/dist-packages (from matplotlib>=2.2.2->pyqstrat) (2.4.7)\n",
            "Requirement already satisfied: python-dateutil>=2.1 in /usr/local/lib/python3.7/dist-packages (from matplotlib>=2.2.2->pyqstrat) (2.8.2)\n",
            "Requirement already satisfied: six in /usr/local/lib/python3.7/dist-packages (from cycler>=0.10->matplotlib>=2.2.2->pyqstrat) (1.15.0)\n",
            "Requirement already satisfied: jsonschema!=2.5.0,>=2.4 in /usr/local/lib/python3.7/dist-packages (from nbformat>=4.2.0->ipywidgets>=7.5->pyqstrat) (2.6.0)\n",
            "Requirement already satisfied: jupyter-core in /usr/local/lib/python3.7/dist-packages (from nbformat>=4.2.0->ipywidgets>=7.5->pyqstrat) (4.8.1)\n",
            "Requirement already satisfied: pytz>=2017.2 in /usr/local/lib/python3.7/dist-packages (from pandas>=0.22->pyqstrat) (2018.9)\n",
            "Requirement already satisfied: ptyprocess>=0.5 in /usr/local/lib/python3.7/dist-packages (from pexpect>4.3->ipython>=6.5.0->pyqstrat) (0.7.0)\n",
            "Collecting tenacity>=6.2.0\n",
            "  Downloading tenacity-8.0.1-py3-none-any.whl (24 kB)\n",
            "Requirement already satisfied: wcwidth in /usr/local/lib/python3.7/dist-packages (from prompt-toolkit!=3.0.0,!=3.0.1,<3.1.0,>=2.0.0->ipython>=6.5.0->pyqstrat) (0.2.5)\n",
            "Requirement already satisfied: patsy>=0.5.2 in /usr/local/lib/python3.7/dist-packages (from statsmodels>=0.11->pyqstrat) (0.5.2)\n",
            "Requirement already satisfied: notebook>=4.4.1 in /usr/local/lib/python3.7/dist-packages (from widgetsnbextension~=3.5.0->ipywidgets>=7.5->pyqstrat) (5.3.1)\n",
            "Requirement already satisfied: Send2Trash in /usr/local/lib/python3.7/dist-packages (from notebook>=4.4.1->widgetsnbextension~=3.5.0->ipywidgets>=7.5->pyqstrat) (1.8.0)\n",
            "Requirement already satisfied: terminado>=0.8.1 in /usr/local/lib/python3.7/dist-packages (from notebook>=4.4.1->widgetsnbextension~=3.5.0->ipywidgets>=7.5->pyqstrat) (0.12.1)\n",
            "Requirement already satisfied: nbconvert in /usr/local/lib/python3.7/dist-packages (from notebook>=4.4.1->widgetsnbextension~=3.5.0->ipywidgets>=7.5->pyqstrat) (5.6.1)\n",
            "Requirement already satisfied: jinja2 in /usr/local/lib/python3.7/dist-packages (from notebook>=4.4.1->widgetsnbextension~=3.5.0->ipywidgets>=7.5->pyqstrat) (2.11.3)\n",
            "Requirement already satisfied: pyzmq>=13 in /usr/local/lib/python3.7/dist-packages (from jupyter-client->ipykernel>=4.5.1->ipywidgets>=7.5->pyqstrat) (22.3.0)\n",
            "Requirement already satisfied: MarkupSafe>=0.23 in /usr/local/lib/python3.7/dist-packages (from jinja2->notebook>=4.4.1->widgetsnbextension~=3.5.0->ipywidgets>=7.5->pyqstrat) (2.0.1)\n",
            "Requirement already satisfied: bleach in /usr/local/lib/python3.7/dist-packages (from nbconvert->notebook>=4.4.1->widgetsnbextension~=3.5.0->ipywidgets>=7.5->pyqstrat) (4.1.0)\n",
            "Requirement already satisfied: entrypoints>=0.2.2 in /usr/local/lib/python3.7/dist-packages (from nbconvert->notebook>=4.4.1->widgetsnbextension~=3.5.0->ipywidgets>=7.5->pyqstrat) (0.3)\n",
            "Requirement already satisfied: pandocfilters>=1.4.1 in /usr/local/lib/python3.7/dist-packages (from nbconvert->notebook>=4.4.1->widgetsnbextension~=3.5.0->ipywidgets>=7.5->pyqstrat) (1.5.0)\n",
            "Requirement already satisfied: testpath in /usr/local/lib/python3.7/dist-packages (from nbconvert->notebook>=4.4.1->widgetsnbextension~=3.5.0->ipywidgets>=7.5->pyqstrat) (0.5.0)\n",
            "Requirement already satisfied: defusedxml in /usr/local/lib/python3.7/dist-packages (from nbconvert->notebook>=4.4.1->widgetsnbextension~=3.5.0->ipywidgets>=7.5->pyqstrat) (0.7.1)\n",
            "Requirement already satisfied: mistune<2,>=0.8.1 in /usr/local/lib/python3.7/dist-packages (from nbconvert->notebook>=4.4.1->widgetsnbextension~=3.5.0->ipywidgets>=7.5->pyqstrat) (0.8.4)\n",
            "Requirement already satisfied: packaging in /usr/local/lib/python3.7/dist-packages (from bleach->nbconvert->notebook>=4.4.1->widgetsnbextension~=3.5.0->ipywidgets>=7.5->pyqstrat) (21.0)\n",
            "Requirement already satisfied: webencodings in /usr/local/lib/python3.7/dist-packages (from bleach->nbconvert->notebook>=4.4.1->widgetsnbextension~=3.5.0->ipywidgets>=7.5->pyqstrat) (0.5.1)\n",
            "Building wheels for collected packages: pyqstrat\n",
            "  Building wheel for pyqstrat (setup.py) ... \u001b[?25lerror\n",
            "\u001b[31m  ERROR: Failed building wheel for pyqstrat\u001b[0m\n",
            "\u001b[?25h  Running setup.py clean for pyqstrat\n",
            "Failed to build pyqstrat\n",
            "Installing collected packages: prompt-toolkit, ipython, tenacity, statsmodels, pybind11, plotly, pyqstrat\n",
            "  Attempting uninstall: prompt-toolkit\n",
            "    Found existing installation: prompt-toolkit 1.0.18\n",
            "    Uninstalling prompt-toolkit-1.0.18:\n",
            "      Successfully uninstalled prompt-toolkit-1.0.18\n",
            "  Attempting uninstall: ipython\n",
            "    Found existing installation: ipython 5.5.0\n",
            "    Uninstalling ipython-5.5.0:\n",
            "      Successfully uninstalled ipython-5.5.0\n",
            "  Attempting uninstall: statsmodels\n",
            "    Found existing installation: statsmodels 0.10.2\n",
            "    Uninstalling statsmodels-0.10.2:\n",
            "      Successfully uninstalled statsmodels-0.10.2\n",
            "  Attempting uninstall: plotly\n",
            "    Found existing installation: plotly 4.4.1\n",
            "    Uninstalling plotly-4.4.1:\n",
            "      Successfully uninstalled plotly-4.4.1\n",
            "    Running setup.py install for pyqstrat ... \u001b[?25l\u001b[?25herror\n",
            "\u001b[31mERROR: Command errored out with exit status 1: /usr/bin/python3 -u -c 'import io, os, sys, setuptools, tokenize; sys.argv[0] = '\"'\"'/tmp/pip-install-wgy5cgx5/pyqstrat_6b44f0f6947b48d8b17fbf049b05d0ee/setup.py'\"'\"'; __file__='\"'\"'/tmp/pip-install-wgy5cgx5/pyqstrat_6b44f0f6947b48d8b17fbf049b05d0ee/setup.py'\"'\"';f = getattr(tokenize, '\"'\"'open'\"'\"', open)(__file__) if os.path.exists(__file__) else io.StringIO('\"'\"'from setuptools import setup; setup()'\"'\"');code = f.read().replace('\"'\"'\\r\\n'\"'\"', '\"'\"'\\n'\"'\"');f.close();exec(compile(code, __file__, '\"'\"'exec'\"'\"'))' install --record /tmp/pip-record-_t2wyrtk/install-record.txt --single-version-externally-managed --compile --install-headers /usr/local/include/python3.7/pyqstrat Check the logs for full command output.\u001b[0m\n"
          ]
        }
      ]
    },
    {
      "cell_type": "markdown",
      "metadata": {
        "id": "21JyfXk_4Lh1"
      },
      "source": [
        "#Functions (Rascunho)\n"
      ]
    },
    {
      "cell_type": "code",
      "metadata": {
        "id": "a6gTc5TX3qm_"
      },
      "source": [
        "\n",
        "def get_stock_data(stock_symbol, start_date, end_date):\n",
        "  #Function to get data stocks\n",
        "  #date format: yy-m-d (string)\n",
        "  data = web.get_data_yahoo(stock_symbol + '.SA', start = start_date, end=end_date)\n",
        "  return pd.DataFrame(data)\n",
        "\n",
        "\n",
        "def calculate_price_diff(opens,closes):\n",
        "  # Return: [1 0] if price up or [0 1] if price down\n",
        "  price_diff = []\n",
        "  for i in range(len(opens)-1):\n",
        "    if opens[i + 1] >= closes[i]:\n",
        "      price_diff.append([1, 0])\n",
        "    else:\n",
        "      price_diff.append([0, 1])\n",
        "  return price_diff\n",
        "\n",
        "\n",
        "def create_datasets(stock_symbol, start_date, end_date):\n",
        "  #Create a data set with all data, and up(down) prediction\n",
        "  data = web.get_data_yahoo(stock_symbol + '.SA', start = start_date, end=end_date )\n",
        "  Date = data.index\n",
        "  Close = data.Close\n",
        "  Adj_Close = data['Adj Close']\n",
        "  Low = data.Low\n",
        "  High = data.High\n",
        "  Open = data.Open\n",
        "  Volume = data.Volume/1000\n",
        "\n",
        "  labels = calculate_price_diff(Open,Close)\n",
        "\n",
        "  inputs = []\n",
        "\n",
        "  for i in range(len(labels)):\n",
        "    inputs.append([Close[i], Adj_Close[i], Low[i], High[i], Open[i], Volume[i]])\n",
        "\n",
        "  return inputs, labels\n"
      ],
      "execution_count": null,
      "outputs": []
    },
    {
      "cell_type": "code",
      "metadata": {
        "id": "PaEylqdXIdTg"
      },
      "source": [
        "def measure_accuracy(actual, expected):\n",
        "  num_correct = 0 \n",
        "  for i in range(len(actual)):\n",
        "    actual_value = actual[i]\n",
        "    expected_value = expected[i]\n",
        "    if actual_value[0] >= actual_value[1] and expected_value[0] >= expected_value[1]:\n",
        "      num_correct += 1\n",
        "    elif actual_value[0] <= actual_value[1] and expected_value[0] <= expected_value[1]:\n",
        "      num_correct += 1\n",
        "  return (num_correct/len(actual)) * 100\n"
      ],
      "execution_count": null,
      "outputs": []
    },
    {
      "cell_type": "markdown",
      "metadata": {
        "id": "XAKTs2WxTBej"
      },
      "source": [
        "#Keras (RNN) (Rascunho de ML)\n"
      ]
    },
    {
      "cell_type": "code",
      "metadata": {
        "id": "HyzAycvMTE9l",
        "colab": {
          "base_uri": "https://localhost:8080/",
          "height": 299
        },
        "outputId": "b7ecbda7-7cf9-4d03-dcb9-fb043b9bce58"
      },
      "source": [
        "data = get_stock_data('BIDI4', '2018-05-20', '2020-08-20')['Adj Close']\n",
        "plt.plot(data.index,data)\n",
        "#data = [data.index,data[0,:]]"
      ],
      "execution_count": null,
      "outputs": [
        {
          "output_type": "stream",
          "text": [
            "\r[*********************100%***********************]  1 of 1 completed\n"
          ],
          "name": "stdout"
        },
        {
          "output_type": "execute_result",
          "data": {
            "text/plain": [
              "[<matplotlib.lines.Line2D at 0x7f6e7a446390>]"
            ]
          },
          "metadata": {
            "tags": []
          },
          "execution_count": 27
        },
        {
          "output_type": "display_data",
          "data": {
            "image/png": "[encoded data removed]",
            "text/plain": [
              "<Figure size 432x288 with 1 Axes>"
            ]
          },
          "metadata": {
            "tags": [],
            "needs_background": "light"
          }
        }
      ]
    },
    {
      "cell_type": "code",
      "metadata": {
        "id": "-qoQlwgGuAcM"
      },
      "source": [
        "data = pd.DataFrame(data)"
      ],
      "execution_count": null,
      "outputs": []
    },
    {
      "cell_type": "code",
      "metadata": {
        "id": "LSGSQHd5mnwv"
      },
      "source": [
        "from sklearn.preprocessing import MinMaxScaler\n",
        "#Normalize Data\n",
        "scaler = MinMaxScaler()\n",
        "scaled_data = scaler.fit_transform(data)\n",
        "#print(scaled_data)"
      ],
      "execution_count": null,
      "outputs": []
    },
    {
      "cell_type": "code",
      "metadata": {
        "id": "LXQ-kJY7vS_E"
      },
      "source": [
        "train_length = int(len(scaled_data) * 0.7) #70% to training\n",
        "test_length  = int(len(scaled_data) * 0.3) #30% to test\n",
        "train_data = scaled_data[0:train_length,:]\n",
        "test_data = scaled_data[train_length:len(scaled_data),:]"
      ],
      "execution_count": null,
      "outputs": []
    },
    {
      "cell_type": "code",
      "metadata": {
        "id": "LdVVoGG4wgw5"
      },
      "source": [
        "def create_dataset(dataset, timestep = 1):\n",
        "  data_x, data_y = [], []\n",
        "  for i in range(len(dataset) - timestep - 1):\n",
        "    data_x.append(dataset[i:(i+timestep), 0])\n",
        "    data_y.append(dataset[i+timestep, 0])\n",
        "  return np.array(data_x), np.array(data_y)\n",
        "\n"
      ],
      "execution_count": null,
      "outputs": []
    },
    {
      "cell_type": "code",
      "metadata": {
        "id": "iRG1H4MpyR6c"
      },
      "source": [
        "timestep = 1\n",
        "train_x, train_y =  create_dataset(train_data, timestep)\n",
        "test_x, test_y =  create_dataset(test_data, timestep)"
      ],
      "execution_count": null,
      "outputs": []
    },
    {
      "cell_type": "code",
      "metadata": {
        "id": "tY3NaaHTmnwz"
      },
      "source": [
        "train_x = np.reshape(train_x, (train_x.shape[0], 1, train_x.shape[1]))\n",
        "test_x = np.reshape(test_x, (test_x.shape[0], 1, test_x.shape[1]))"
      ],
      "execution_count": null,
      "outputs": []
    },
    {
      "cell_type": "code",
      "metadata": {
        "id": "aeNxy3ZKmnw3"
      },
      "source": [
        "from keras.models import Sequential\n",
        "from keras.layers import LSTM, Dense\n"
      ],
      "execution_count": null,
      "outputs": []
    },
    {
      "cell_type": "code",
      "metadata": {
        "id": "-xNzW2iamnw7",
        "colab": {
          "base_uri": "https://localhost:8080/",
          "height": 238
        },
        "outputId": "42899c7f-6de3-461b-f18a-bea475a9c7af"
      },
      "source": [
        "model = Sequential()\n",
        "model.add(LSTM(300, input_shape=(1,1)))\n",
        "model.add(Dense(10, activation= 'sigmoid'))\n",
        "model.compile(loss = 'mean_squared_error', optimizer = 'adam', metrics = ['accuracy'])\n",
        "print(model.summary())"
      ],
      "execution_count": null,
      "outputs": [
        {
          "output_type": "stream",
          "text": [
            "Model: \"sequential_6\"\n",
            "_________________________________________________________________\n",
            "Layer (type)                 Output Shape              Param #   \n",
            "=================================================================\n",
            "lstm_6 (LSTM)                (None, 300)               362400    \n",
            "_________________________________________________________________\n",
            "dense_6 (Dense)              (None, 10)                3010      \n",
            "=================================================================\n",
            "Total params: 365,410\n",
            "Trainable params: 365,410\n",
            "Non-trainable params: 0\n",
            "_________________________________________________________________\n",
            "None\n"
          ],
          "name": "stdout"
        }
      ]
    },
    {
      "cell_type": "code",
      "metadata": {
        "id": "9WHTucoZmnw-",
        "colab": {
          "base_uri": "https://localhost:8080/",
          "height": 68
        },
        "outputId": "1b6271fe-cbf2-46d1-8703-d544696f9582"
      },
      "source": [
        "model.fit(train_x,train_y,epochs=1, batch_size=1, verbose=1)\n",
        "score = model.evaluate(train_x,train_y, verbose=0)\n",
        "print('Keras model loss = ', score[0])\n",
        "print('Keras model accuracy = ', score[1])"
      ],
      "execution_count": null,
      "outputs": [
        {
          "output_type": "stream",
          "text": [
            "387/387 [==============================] - 1s 2ms/step - loss: 0.0441 - accuracy: 0.0000e+00\n",
            "Keras model loss =  0.005437170621007681\n",
            "Keras model accuracy =  0.0\n"
          ],
          "name": "stdout"
        }
      ]
    },
    {
      "cell_type": "code",
      "metadata": {
        "id": "qDq1XgXpmnxC",
        "colab": {
          "base_uri": "https://localhost:8080/",
          "height": 34
        },
        "outputId": "ebd498e2-5f79-491e-dbab-b736b2cc2a65"
      },
      "source": [
        "train_predictions = model.predict(train_x)\n",
        "test_predictions = model.predict(test_x)\n",
        "print(len(train_predictions))"
      ],
      "execution_count": null,
      "outputs": [
        {
          "output_type": "stream",
          "text": [
            "387\n"
          ],
          "name": "stdout"
        }
      ]
    },
    {
      "cell_type": "code",
      "metadata": {
        "id": "yQ7B01AxmnxG",
        "colab": {
          "base_uri": "https://localhost:8080/",
          "height": 136
        },
        "outputId": "a912be5b-2f99-4bac-84b0-8132c61c1c39"
      },
      "source": [
        "train_predictions = scaler.inverse_transform(train_predictions)\n",
        "train_y = scaler.inverse_transform([train_y])\n",
        "\n",
        "test_predictions = scaler.inverse_transform(test_predictions)\n",
        "test_y = scaler.inverse_transform([test_y])\n",
        "\n",
        "print(train_predictions)"
      ],
      "execution_count": null,
      "outputs": [
        {
          "output_type": "stream",
          "text": [
            "[[ 5.420645   5.520798   5.487359  ...  5.448936   5.40824    5.4490356]\n",
            " [ 5.4475803  5.547352   5.5140815 ...  5.4756856  5.435143   5.4758368]\n",
            " [ 5.4794807  5.5787854  5.545722  ...  5.507357   5.467006   5.5075746]\n",
            " ...\n",
            " [14.95609   14.6862955 14.800989  ... 14.820372  14.948308  14.848684 ]\n",
            " [14.626362  14.368435  14.4783745 ... 14.495768  14.618157  14.523373 ]\n",
            " [14.826329  14.561131  14.673983  ... 14.692592  14.818379  14.720633 ]]\n"
          ],
          "name": "stdout"
        }
      ]
    },
    {
      "cell_type": "code",
      "metadata": {
        "id": "25M6A45ZmnxK"
      },
      "source": [
        "train_predict_plot = np.empty_like(scaled_data)\n",
        "train_predict_plot[:,:] = np.nan\n",
        "train_predict_plot[1:len(train_predictions)+1,:]= train_predictions[:,8].reshape((387,1))"
      ],
      "execution_count": null,
      "outputs": []
    },
    {
      "cell_type": "code",
      "metadata": {
        "id": "LGgeJpVGmnxN"
      },
      "source": [
        "test_predict_plot = np.empty_like(scaled_data)\n",
        "test_predict_plot[:,:] = np.nan\n",
        "test_predict_plot[len(train_predictions)+2+1:len(scaled_data)-1,:]= test_predictions[:,8].reshape((165,1))"
      ],
      "execution_count": null,
      "outputs": []
    },
    {
      "cell_type": "code",
      "metadata": {
        "id": "pG1sv1sXmnxQ",
        "colab": {
          "base_uri": "https://localhost:8080/",
          "height": 385
        },
        "outputId": "6b77e7bb-df10-4bda-8cb8-6c6c980259e4"
      },
      "source": [
        "plt.figure(dpi=100)\n",
        "plt.plot(scaler.inverse_transform(scaled_data), label = 'Real')\n",
        "plt.plot(train_predict_plot, label = 'Train')\n",
        "plt.plot(test_predict_plot, label = 'Test')\n",
        "plt.title(label = 'BIDI4')\n",
        "plt.legend()\n",
        "plt.show()"
      ],
      "execution_count": null,
      "outputs": [
        {
          "output_type": "display_data",
          "data": {
            "image/png": "[encoded data removed]",
            "text/plain": [
              "<Figure size 600x400 with 1 Axes>"
            ]
          },
          "metadata": {
            "tags": [],
            "needs_background": "light"
          }
        }
      ]
    }
  ]
}